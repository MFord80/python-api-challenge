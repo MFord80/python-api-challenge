{
 "cells": [
  {
   "cell_type": "markdown",
   "metadata": {},
   "source": [
    "# VacationPy\n"
   ]
  },
  {
   "cell_type": "code",
   "execution_count": 15,
   "metadata": {},
   "outputs": [],
   "source": [
    "# Dependencies and Setup\n",
    "import matplotlib.pyplot as plt\n",
    "import pandas as pd\n",
    "import numpy as np\n",
    "import requests\n",
    "import gmaps\n",
    "import json\n",
    "import os\n",
    "\n",
    "# Import API key\n",
    "from api_keys import g_key"
   ]
  },
  {
   "cell_type": "markdown",
   "metadata": {},
   "source": [
    "### Store Part I results into DataFrame\n",
    "* Load the csv exported in Part I to a DataFrame"
   ]
  },
  {
   "cell_type": "code",
   "execution_count": 16,
   "metadata": {},
   "outputs": [],
   "source": [
    "# Load cities csv\n",
    "filepath = \"../output_data/cities.csv\"\n",
    "cities_df = pd.read_csv(filepath)"
   ]
  },
  {
   "cell_type": "markdown",
   "metadata": {},
   "source": [
    "### Humidity Heatmap\n",
    "* Configure gmaps.\n",
    "* Use the Lat and Lng as locations and Humidity as the weight.\n",
    "* Add Heatmap layer to map."
   ]
  },
  {
   "cell_type": "code",
   "execution_count": 17,
   "metadata": {},
   "outputs": [
    {
     "data": {
      "application/vnd.jupyter.widget-view+json": {
       "model_id": "fc4e9f180b894811bede57307b6ca15b",
       "version_major": 2,
       "version_minor": 0
      },
      "text/plain": [
       "Figure(layout=FigureLayout(border='1px solid black', height='350px', margin='0 auto 0 auto', padding='1px', wi…"
      ]
     },
     "metadata": {},
     "output_type": "display_data"
    }
   ],
   "source": [
    "# Configure gmaps\n",
    "gmaps.configure(api_key=g_key)\n",
    "\n",
    "# Use the Lat and Lng as locations and Humidity as the weight\n",
    "locations = cities_df[[\"Latitude\",\"Longitude\"]]\n",
    "humidity = cities_df[\"Humidity (%)\"].astype(float)\n",
    "\n",
    "figure_layout = {\n",
    "    'width': '550px',\n",
    "    'height': '350px',\n",
    "    'border': '1px solid black',\n",
    "    'padding': '1px',\n",
    "    'margin': '0 auto 0 auto'\n",
    "}\n",
    "\n",
    "# Add heatmap layer to map\n",
    "fig = gmaps.figure(layout=figure_layout, zoom_level=1, center=(10,25))\n",
    "\n",
    "heat_layer = gmaps.heatmap_layer(locations, weights=humidity, max_intensity=200, point_radius = 8)\n",
    "\n",
    "fig.add_layer(heat_layer)\n",
    "\n",
    "fig\n"
   ]
  },
  {
   "cell_type": "markdown",
   "metadata": {},
   "source": [
    "### Create new DataFrame fitting weather criteria\n",
    "* Narrow down the cities to fit weather conditions.\n",
    "* Drop any rows will null values."
   ]
  },
  {
   "cell_type": "code",
   "execution_count": 18,
   "metadata": {},
   "outputs": [],
   "source": [
    "# Ideal cities dataframe created from the following conditions\n",
    "ideal_cities_df = cities_df.loc[(cities_df[\"Temperature (C)\"] > 21) &\n",
    "                                 (cities_df[\"Temperature (C)\"] < 28) &\n",
    "                                 (cities_df[\"Humidity (%)\"] < 40) &\n",
    "                                 (cities_df[\"Cloudiness (%)\"] < 5) &\n",
    "                                 (cities_df[\"Wind Speed (m/s)\"] < 4), :]\n"
   ]
  },
  {
   "cell_type": "markdown",
   "metadata": {},
   "source": [
    "### Hotel Map\n",
    "* Store into variable named `hotel_df`.\n",
    "* Add a \"Hotel Name\" column to the DataFrame.\n",
    "* Set parameters to search for hotels with 5000 meters.\n",
    "* Hit the Google Places API for each city's coordinates.\n",
    "* Store the first Hotel result into the DataFrame.\n",
    "* Plot markers on top of the heatmap."
   ]
  },
  {
   "cell_type": "code",
   "execution_count": 22,
   "metadata": {},
   "outputs": [
    {
     "name": "stderr",
     "output_type": "stream",
     "text": [
      "/Users/matthewford/opt/anaconda3/envs/PythonData/lib/python3.7/site-packages/ipykernel_launcher.py:29: SettingWithCopyWarning: \n",
      "A value is trying to be set on a copy of a slice from a DataFrame.\n",
      "Try using .loc[row_indexer,col_indexer] = value instead\n",
      "\n",
      "See the caveats in the documentation: https://pandas.pydata.org/pandas-docs/stable/user_guide/indexing.html#returning-a-view-versus-a-copy\n"
     ]
    },
    {
     "data": {
      "text/html": [
       "<div>\n",
       "<style scoped>\n",
       "    .dataframe tbody tr th:only-of-type {\n",
       "        vertical-align: middle;\n",
       "    }\n",
       "\n",
       "    .dataframe tbody tr th {\n",
       "        vertical-align: top;\n",
       "    }\n",
       "\n",
       "    .dataframe thead th {\n",
       "        text-align: right;\n",
       "    }\n",
       "</style>\n",
       "<table border=\"1\" class=\"dataframe\">\n",
       "  <thead>\n",
       "    <tr style=\"text-align: right;\">\n",
       "      <th></th>\n",
       "      <th>City</th>\n",
       "      <th>Latitude</th>\n",
       "      <th>Longitude</th>\n",
       "      <th>Temperature (C)</th>\n",
       "      <th>Humidity (%)</th>\n",
       "      <th>Cloudiness (%)</th>\n",
       "      <th>Wind Speed (m/s)</th>\n",
       "      <th>Country</th>\n",
       "      <th>Hotel Name</th>\n",
       "    </tr>\n",
       "  </thead>\n",
       "  <tbody>\n",
       "    <tr>\n",
       "      <th>3</th>\n",
       "      <td>Mangochi</td>\n",
       "      <td>-14.4782</td>\n",
       "      <td>35.2645</td>\n",
       "      <td>26.10</td>\n",
       "      <td>37</td>\n",
       "      <td>1</td>\n",
       "      <td>1.64</td>\n",
       "      <td>MW</td>\n",
       "      <td>La Riviera Lodge</td>\n",
       "    </tr>\n",
       "    <tr>\n",
       "      <th>109</th>\n",
       "      <td>Cayenne</td>\n",
       "      <td>4.9333</td>\n",
       "      <td>-52.3333</td>\n",
       "      <td>25.61</td>\n",
       "      <td>1</td>\n",
       "      <td>0</td>\n",
       "      <td>0.00</td>\n",
       "      <td>GF</td>\n",
       "      <td>Grand Hotel Montabo</td>\n",
       "    </tr>\n",
       "    <tr>\n",
       "      <th>250</th>\n",
       "      <td>Khalkhāl</td>\n",
       "      <td>37.6189</td>\n",
       "      <td>48.5258</td>\n",
       "      <td>26.84</td>\n",
       "      <td>35</td>\n",
       "      <td>0</td>\n",
       "      <td>1.18</td>\n",
       "      <td>IR</td>\n",
       "      <td>هتل</td>\n",
       "    </tr>\n",
       "    <tr>\n",
       "      <th>323</th>\n",
       "      <td>Tsiroanomandidy</td>\n",
       "      <td>-18.7667</td>\n",
       "      <td>46.0333</td>\n",
       "      <td>26.52</td>\n",
       "      <td>18</td>\n",
       "      <td>0</td>\n",
       "      <td>2.69</td>\n",
       "      <td>MG</td>\n",
       "      <td>Horizon Hotel</td>\n",
       "    </tr>\n",
       "    <tr>\n",
       "      <th>408</th>\n",
       "      <td>Teruel</td>\n",
       "      <td>40.6667</td>\n",
       "      <td>-0.6667</td>\n",
       "      <td>24.79</td>\n",
       "      <td>30</td>\n",
       "      <td>1</td>\n",
       "      <td>1.34</td>\n",
       "      <td>ES</td>\n",
       "      <td>Albergue Santa Barbara</td>\n",
       "    </tr>\n",
       "    <tr>\n",
       "      <th>447</th>\n",
       "      <td>Priego de Córdoba</td>\n",
       "      <td>37.4381</td>\n",
       "      <td>-4.1952</td>\n",
       "      <td>27.09</td>\n",
       "      <td>37</td>\n",
       "      <td>0</td>\n",
       "      <td>1.08</td>\n",
       "      <td>ES</td>\n",
       "      <td>Hotel Patria Chica</td>\n",
       "    </tr>\n",
       "    <tr>\n",
       "      <th>492</th>\n",
       "      <td>Toledo</td>\n",
       "      <td>39.8333</td>\n",
       "      <td>-4.0000</td>\n",
       "      <td>27.95</td>\n",
       "      <td>24</td>\n",
       "      <td>0</td>\n",
       "      <td>1.02</td>\n",
       "      <td>ES</td>\n",
       "      <td>Hotel Carlos V Toledo</td>\n",
       "    </tr>\n",
       "    <tr>\n",
       "      <th>593</th>\n",
       "      <td>Ondjiva</td>\n",
       "      <td>-17.0667</td>\n",
       "      <td>15.7333</td>\n",
       "      <td>22.02</td>\n",
       "      <td>30</td>\n",
       "      <td>0</td>\n",
       "      <td>2.57</td>\n",
       "      <td>AO</td>\n",
       "      <td>Águia Verde Hotel</td>\n",
       "    </tr>\n",
       "  </tbody>\n",
       "</table>\n",
       "</div>"
      ],
      "text/plain": [
       "                  City  Latitude  Longitude  Temperature (C)  Humidity (%)  \\\n",
       "3             Mangochi  -14.4782    35.2645            26.10            37   \n",
       "109            Cayenne    4.9333   -52.3333            25.61             1   \n",
       "250           Khalkhāl   37.6189    48.5258            26.84            35   \n",
       "323    Tsiroanomandidy  -18.7667    46.0333            26.52            18   \n",
       "408             Teruel   40.6667    -0.6667            24.79            30   \n",
       "447  Priego de Córdoba   37.4381    -4.1952            27.09            37   \n",
       "492             Toledo   39.8333    -4.0000            27.95            24   \n",
       "593            Ondjiva  -17.0667    15.7333            22.02            30   \n",
       "\n",
       "     Cloudiness (%)  Wind Speed (m/s) Country              Hotel Name  \n",
       "3                 1              1.64      MW        La Riviera Lodge  \n",
       "109               0              0.00      GF     Grand Hotel Montabo  \n",
       "250               0              1.18      IR                     هتل  \n",
       "323               0              2.69      MG           Horizon Hotel  \n",
       "408               1              1.34      ES  Albergue Santa Barbara  \n",
       "447               0              1.08      ES      Hotel Patria Chica  \n",
       "492               0              1.02      ES   Hotel Carlos V Toledo  \n",
       "593               0              2.57      AO       Águia Verde Hotel  "
      ]
     },
     "execution_count": 22,
     "metadata": {},
     "output_type": "execute_result"
    }
   ],
   "source": [
    "# Dataframe renamed\n",
    "hotel_df = ideal_cities_df\n",
    "\n",
    "# Base url\n",
    "base_url = \"https://maps.googleapis.com/maps/api/place/nearbysearch/json\"\n",
    "\n",
    "# Parameters dictionary, set to find hotels within 5000m\n",
    "params = {\n",
    "    \"radius\": 5000,\n",
    "    \"keyword\": \"hotel\",\n",
    "    \"key\": g_key\n",
    "}\n",
    "\n",
    "# Empty hotels list created for hotel names to be added to \n",
    "hotels = []\n",
    "\n",
    "# Iterrows used to iterate through dataframe, adding first hotel found to hotel names list\n",
    "for index, row in hotel_df.iterrows():\n",
    "    coordinates = f\"{row['Latitude']}, {row['Longitude']}\"\n",
    "    params['location'] = coordinates\n",
    "# Try / execpt added as many cities did not return a hotel\n",
    "    try:\n",
    "        hotel_data = requests.get(base_url, params=params).json()\n",
    "        hotels.append(hotel_data[\"results\"][0][\"name\"])\n",
    "    except:\n",
    "        hotels.append(f\"No hotel found\")\n",
    "\n",
    "# List of hotel names added to dataframe, removed rows without hotels\n",
    "hotel_df[\"Hotel Name\"] = hotels\n",
    "hotel_df = hotel_df.loc[hotel_df[\"Hotel Name\"] != \"No hotel found\", :]\n",
    "hotel_df"
   ]
  },
  {
   "cell_type": "code",
   "execution_count": 20,
   "metadata": {},
   "outputs": [],
   "source": [
    "# Used provided template to create hotel info box\n",
    "info_box_template =\"\"\"\n",
    "<dl>\n",
    "<dt><b>Name</b></dt><dd>{Hotel Name}</dd>\n",
    "<dt><b>City</b></dt><dd>{City}</dd>\n",
    "<dt><b>Country</b></dt><dd>{Country}</dd>\n",
    "</dl>\n",
    "\"\"\"\n",
    "\n",
    "hotel_info = [info_box_template.format(**row) for index, row in hotel_df.iterrows()]\n"
   ]
  },
  {
   "cell_type": "code",
   "execution_count": 21,
   "metadata": {},
   "outputs": [
    {
     "data": {
      "application/vnd.jupyter.widget-view+json": {
       "model_id": "e7151dfb30854f28a72bbcc3ac43bc29",
       "version_major": 2,
       "version_minor": 0
      },
      "text/plain": [
       "Figure(layout=FigureLayout(border='1px solid black', height='350px', margin='0 auto 0 auto', padding='1px', wi…"
      ]
     },
     "metadata": {},
     "output_type": "display_data"
    }
   ],
   "source": [
    "# Add marker layer ontop of heat map\n",
    "fig = gmaps.figure(layout=figure_layout, zoom_level=1, center=(10,25))\n",
    "\n",
    "locations_hotels = hotel_df[[\"Latitude\", \"Longitude\"]]\n",
    "\n",
    "marker_layer = gmaps.marker_layer(locations_hotels, info_box_content=hotel_info, display_info_box=True)\n",
    "\n",
    "fig.add_layer(heat_layer)\n",
    "fig.add_layer(marker_layer)\n",
    "\n",
    "# Display figure\n",
    "fig\n"
   ]
  },
  {
   "cell_type": "code",
   "execution_count": null,
   "metadata": {},
   "outputs": [],
   "source": []
  }
 ],
 "metadata": {
  "kernelspec": {
   "display_name": "Python 3.7.7 ('PythonData')",
   "language": "python",
   "name": "python3"
  },
  "language_info": {
   "codemirror_mode": {
    "name": "ipython",
    "version": 3
   },
   "file_extension": ".py",
   "mimetype": "text/x-python",
   "name": "python",
   "nbconvert_exporter": "python",
   "pygments_lexer": "ipython3",
   "version": "3.7.7"
  },
  "latex_envs": {
   "LaTeX_envs_menu_present": true,
   "autoclose": false,
   "autocomplete": true,
   "bibliofile": "biblio.bib",
   "cite_by": "apalike",
   "current_citInitial": 1,
   "eqLabelWithNumbers": true,
   "eqNumInitial": 1,
   "hotkeys": {
    "equation": "Ctrl-E",
    "itemize": "Ctrl-I"
   },
   "labels_anchors": false,
   "latex_user_defs": false,
   "report_style_numbering": false,
   "user_envs_cfg": false
  },
  "vscode": {
   "interpreter": {
    "hash": "5ab4271f17fb678f92d8863922ba38472c07151a138a8513aae8a62841bcc2ec"
   }
  }
 },
 "nbformat": 4,
 "nbformat_minor": 4
}
