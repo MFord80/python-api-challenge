{
 "cells": [
  {
   "cell_type": "markdown",
   "metadata": {},
   "source": [
    "# VacationPy\n"
   ]
  },
  {
   "cell_type": "code",
   "execution_count": 1,
   "metadata": {},
   "outputs": [],
   "source": [
    "# Dependencies and Setup\n",
    "import matplotlib.pyplot as plt\n",
    "import pandas as pd\n",
    "import numpy as np\n",
    "import requests\n",
    "import gmaps\n",
    "import json\n",
    "import os\n",
    "\n",
    "# Import API key\n",
    "from api_keys import g_key"
   ]
  },
  {
   "cell_type": "markdown",
   "metadata": {},
   "source": [
    "### Store Part I results into DataFrame\n",
    "* Load the csv exported in Part I to a DataFrame"
   ]
  },
  {
   "cell_type": "code",
   "execution_count": 2,
   "metadata": {},
   "outputs": [],
   "source": [
    "# Load cities csv\n",
    "filepath = \"../output_data/cities.csv\"\n",
    "cities_df = pd.read_csv(filepath)"
   ]
  },
  {
   "cell_type": "markdown",
   "metadata": {},
   "source": [
    "### Humidity Heatmap\n",
    "* Configure gmaps.\n",
    "* Use the Lat and Lng as locations and Humidity as the weight.\n",
    "* Add Heatmap layer to map."
   ]
  },
  {
   "cell_type": "code",
   "execution_count": 3,
   "metadata": {},
   "outputs": [
    {
     "data": {
      "application/vnd.jupyter.widget-view+json": {
       "model_id": "db9de3ce332e464cbda0d7540279b3c1",
       "version_major": 2,
       "version_minor": 0
      },
      "text/plain": [
       "Figure(layout=FigureLayout(border='1px solid black', height='350px', margin='0 auto 0 auto', padding='1px', wi…"
      ]
     },
     "metadata": {},
     "output_type": "display_data"
    }
   ],
   "source": [
    "# Configure gmaps\n",
    "gmaps.configure(api_key=g_key)\n",
    "\n",
    "# Use the Lat and Lng as locations and Humidity as the weight\n",
    "locations = cities_df[[\"Latitude\",\"Longitude\"]]\n",
    "humidity = cities_df[\"Humidity (%)\"].astype(float)\n",
    "\n",
    "figure_layout = {\n",
    "    'width': '550px',\n",
    "    'height': '350px',\n",
    "    'border': '1px solid black',\n",
    "    'padding': '1px',\n",
    "    'margin': '0 auto 0 auto'\n",
    "}\n",
    "\n",
    "# Add heatmap layer to map\n",
    "fig = gmaps.figure(layout=figure_layout, zoom_level=1, center=(10,25))\n",
    "\n",
    "heat_layer = gmaps.heatmap_layer(locations, weights=humidity, max_intensity=200, point_radius = 8)\n",
    "\n",
    "fig.add_layer(heat_layer)\n",
    "\n",
    "fig\n"
   ]
  },
  {
   "cell_type": "markdown",
   "metadata": {},
   "source": [
    "### Create new DataFrame fitting weather criteria\n",
    "* Narrow down the cities to fit weather conditions.\n",
    "* Drop any rows will null values."
   ]
  },
  {
   "cell_type": "code",
   "execution_count": 8,
   "metadata": {},
   "outputs": [],
   "source": [
    "# Ideal cities dataframe created from the following conditions\n",
    "ideal_cities_df = cities_df.loc[(cities_df[\"Temperature (C)\"] > 21) &\n",
    "                                 (cities_df[\"Temperature (C)\"] < 28) &\n",
    "                                 (cities_df[\"Humidity (%)\"] < 50) &\n",
    "                                 (cities_df[\"Cloudiness (%)\"] < 5) &\n",
    "                                 (cities_df[\"Wind Speed (m/s)\"] < 4), :]\n"
   ]
  },
  {
   "cell_type": "markdown",
   "metadata": {},
   "source": [
    "### Hotel Map\n",
    "* Store into variable named `hotel_df`.\n",
    "* Add a \"Hotel Name\" column to the DataFrame.\n",
    "* Set parameters to search for hotels with 5000 meters.\n",
    "* Hit the Google Places API for each city's coordinates.\n",
    "* Store the first Hotel result into the DataFrame.\n",
    "* Plot markers on top of the heatmap."
   ]
  },
  {
   "cell_type": "code",
   "execution_count": 9,
   "metadata": {},
   "outputs": [
    {
     "name": "stderr",
     "output_type": "stream",
     "text": [
      "/Users/matthewford/opt/anaconda3/envs/PythonData/lib/python3.7/site-packages/ipykernel_launcher.py:29: SettingWithCopyWarning: \n",
      "A value is trying to be set on a copy of a slice from a DataFrame.\n",
      "Try using .loc[row_indexer,col_indexer] = value instead\n",
      "\n",
      "See the caveats in the documentation: https://pandas.pydata.org/pandas-docs/stable/user_guide/indexing.html#returning-a-view-versus-a-copy\n"
     ]
    },
    {
     "data": {
      "text/html": [
       "<div>\n",
       "<style scoped>\n",
       "    .dataframe tbody tr th:only-of-type {\n",
       "        vertical-align: middle;\n",
       "    }\n",
       "\n",
       "    .dataframe tbody tr th {\n",
       "        vertical-align: top;\n",
       "    }\n",
       "\n",
       "    .dataframe thead th {\n",
       "        text-align: right;\n",
       "    }\n",
       "</style>\n",
       "<table border=\"1\" class=\"dataframe\">\n",
       "  <thead>\n",
       "    <tr style=\"text-align: right;\">\n",
       "      <th></th>\n",
       "      <th>City</th>\n",
       "      <th>Latitude</th>\n",
       "      <th>Longitude</th>\n",
       "      <th>Temperature (C)</th>\n",
       "      <th>Humidity (%)</th>\n",
       "      <th>Cloudiness (%)</th>\n",
       "      <th>Wind Speed (m/s)</th>\n",
       "      <th>Country</th>\n",
       "      <th>Date Time</th>\n",
       "      <th>Hotel Name</th>\n",
       "    </tr>\n",
       "  </thead>\n",
       "  <tbody>\n",
       "    <tr>\n",
       "      <th>66</th>\n",
       "      <td>Blackfoot</td>\n",
       "      <td>43.1905</td>\n",
       "      <td>-112.3450</td>\n",
       "      <td>21.54</td>\n",
       "      <td>17</td>\n",
       "      <td>0</td>\n",
       "      <td>2.24</td>\n",
       "      <td>US</td>\n",
       "      <td>2022-08-09 06:25:54</td>\n",
       "      <td>Super 8 by Wyndham Blackfoot/Idaho Falls</td>\n",
       "    </tr>\n",
       "    <tr>\n",
       "      <th>69</th>\n",
       "      <td>Cedar City</td>\n",
       "      <td>37.6775</td>\n",
       "      <td>-113.0619</td>\n",
       "      <td>22.54</td>\n",
       "      <td>28</td>\n",
       "      <td>0</td>\n",
       "      <td>2.57</td>\n",
       "      <td>US</td>\n",
       "      <td>2022-08-09 06:24:32</td>\n",
       "      <td>Courtyard by Marriott Cedar City</td>\n",
       "    </tr>\n",
       "    <tr>\n",
       "      <th>102</th>\n",
       "      <td>Glendive</td>\n",
       "      <td>47.1053</td>\n",
       "      <td>-104.7125</td>\n",
       "      <td>24.54</td>\n",
       "      <td>43</td>\n",
       "      <td>0</td>\n",
       "      <td>3.09</td>\n",
       "      <td>US</td>\n",
       "      <td>2022-08-09 06:28:15</td>\n",
       "      <td>Holiday Inn Express &amp; Suites Glendive, an IHG ...</td>\n",
       "    </tr>\n",
       "    <tr>\n",
       "      <th>177</th>\n",
       "      <td>Mount Isa</td>\n",
       "      <td>-20.7333</td>\n",
       "      <td>139.5000</td>\n",
       "      <td>25.87</td>\n",
       "      <td>13</td>\n",
       "      <td>1</td>\n",
       "      <td>2.57</td>\n",
       "      <td>AU</td>\n",
       "      <td>2022-08-09 06:29:21</td>\n",
       "      <td>Redearth Boutique Hotel</td>\n",
       "    </tr>\n",
       "    <tr>\n",
       "      <th>275</th>\n",
       "      <td>Chipinge</td>\n",
       "      <td>-20.1883</td>\n",
       "      <td>32.6236</td>\n",
       "      <td>22.42</td>\n",
       "      <td>16</td>\n",
       "      <td>0</td>\n",
       "      <td>1.02</td>\n",
       "      <td>ZW</td>\n",
       "      <td>2022-08-09 06:30:50</td>\n",
       "      <td>Siketaal lodge</td>\n",
       "    </tr>\n",
       "    <tr>\n",
       "      <th>480</th>\n",
       "      <td>Abalak</td>\n",
       "      <td>58.1286</td>\n",
       "      <td>68.5944</td>\n",
       "      <td>27.06</td>\n",
       "      <td>43</td>\n",
       "      <td>0</td>\n",
       "      <td>1.84</td>\n",
       "      <td>RU</td>\n",
       "      <td>2022-08-09 06:33:42</td>\n",
       "      <td>Туристический комплекс Абалак</td>\n",
       "    </tr>\n",
       "  </tbody>\n",
       "</table>\n",
       "</div>"
      ],
      "text/plain": [
       "           City  Latitude  Longitude  Temperature (C)  Humidity (%)  \\\n",
       "66    Blackfoot   43.1905  -112.3450            21.54            17   \n",
       "69   Cedar City   37.6775  -113.0619            22.54            28   \n",
       "102    Glendive   47.1053  -104.7125            24.54            43   \n",
       "177   Mount Isa  -20.7333   139.5000            25.87            13   \n",
       "275    Chipinge  -20.1883    32.6236            22.42            16   \n",
       "480      Abalak   58.1286    68.5944            27.06            43   \n",
       "\n",
       "     Cloudiness (%)  Wind Speed (m/s) Country            Date Time  \\\n",
       "66                0              2.24      US  2022-08-09 06:25:54   \n",
       "69                0              2.57      US  2022-08-09 06:24:32   \n",
       "102               0              3.09      US  2022-08-09 06:28:15   \n",
       "177               1              2.57      AU  2022-08-09 06:29:21   \n",
       "275               0              1.02      ZW  2022-08-09 06:30:50   \n",
       "480               0              1.84      RU  2022-08-09 06:33:42   \n",
       "\n",
       "                                            Hotel Name  \n",
       "66            Super 8 by Wyndham Blackfoot/Idaho Falls  \n",
       "69                    Courtyard by Marriott Cedar City  \n",
       "102  Holiday Inn Express & Suites Glendive, an IHG ...  \n",
       "177                            Redearth Boutique Hotel  \n",
       "275                                     Siketaal lodge  \n",
       "480                      Туристический комплекс Абалак  "
      ]
     },
     "execution_count": 9,
     "metadata": {},
     "output_type": "execute_result"
    }
   ],
   "source": [
    "# Dataframe renamed\n",
    "hotel_df = ideal_cities_df\n",
    "\n",
    "# Base url\n",
    "base_url = \"https://maps.googleapis.com/maps/api/place/nearbysearch/json\"\n",
    "\n",
    "# Parameters dictionary, set to find hotels within 5000m\n",
    "params = {\n",
    "    \"radius\": 5000,\n",
    "    \"keyword\": \"hotel\",\n",
    "    \"key\": g_key\n",
    "}\n",
    "\n",
    "# Empty hotels list created for hotel names to be added to \n",
    "hotels = []\n",
    "\n",
    "# Iterrows used to iterate through dataframe, adding first hotel found to hotel names list\n",
    "for index, row in hotel_df.iterrows():\n",
    "    coordinates = f\"{row['Latitude']}, {row['Longitude']}\"\n",
    "    params['location'] = coordinates\n",
    "# Try / execpt added as many cities did not return a hotel\n",
    "    try:\n",
    "        hotel_data = requests.get(base_url, params=params).json()\n",
    "        hotels.append(hotel_data[\"results\"][0][\"name\"])\n",
    "    except:\n",
    "        hotels.append(f\"No hotel found\")\n",
    "\n",
    "# List of hotel names added to dataframe, removed rows without hotels\n",
    "hotel_df[\"Hotel Name\"] = hotels\n",
    "hotel_df = hotel_df.loc[hotel_df[\"Hotel Name\"] != \"No hotel found\", :]\n",
    "hotel_df"
   ]
  },
  {
   "cell_type": "code",
   "execution_count": 10,
   "metadata": {},
   "outputs": [],
   "source": [
    "# Used provided template to create hotel info box\n",
    "info_box_template =\"\"\"\n",
    "<dl>\n",
    "<dt><b>Name</b></dt><dd>{Hotel Name}</dd>\n",
    "<dt><b>City</b></dt><dd>{City}</dd>\n",
    "<dt><b>Country</b></dt><dd>{Country}</dd>\n",
    "</dl>\n",
    "\"\"\"\n",
    "\n",
    "hotel_info = [info_box_template.format(**row) for index, row in hotel_df.iterrows()]\n"
   ]
  },
  {
   "cell_type": "code",
   "execution_count": 7,
   "metadata": {},
   "outputs": [
    {
     "data": {
      "application/vnd.jupyter.widget-view+json": {
       "model_id": "09b2093fa4a04c1890b7c2c409854fc0",
       "version_major": 2,
       "version_minor": 0
      },
      "text/plain": [
       "Figure(layout=FigureLayout(border='1px solid black', height='350px', margin='0 auto 0 auto', padding='1px', wi…"
      ]
     },
     "metadata": {},
     "output_type": "display_data"
    }
   ],
   "source": [
    "# Add marker layer ontop of heat map\n",
    "fig = gmaps.figure(layout=figure_layout, zoom_level=1, center=(10,25))\n",
    "\n",
    "locations_hotels = hotel_df[[\"Latitude\", \"Longitude\"]]\n",
    "\n",
    "marker_layer = gmaps.marker_layer(locations_hotels, info_box_content=hotel_info, display_info_box=True)\n",
    "\n",
    "fig.add_layer(heat_layer)\n",
    "fig.add_layer(marker_layer)\n",
    "\n",
    "# Display figure\n",
    "fig\n"
   ]
  },
  {
   "cell_type": "code",
   "execution_count": null,
   "metadata": {},
   "outputs": [],
   "source": []
  }
 ],
 "metadata": {
  "kernelspec": {
   "display_name": "Python 3.7.7 ('PythonData')",
   "language": "python",
   "name": "python3"
  },
  "language_info": {
   "codemirror_mode": {
    "name": "ipython",
    "version": 3
   },
   "file_extension": ".py",
   "mimetype": "text/x-python",
   "name": "python",
   "nbconvert_exporter": "python",
   "pygments_lexer": "ipython3",
   "version": "3.7.7"
  },
  "latex_envs": {
   "LaTeX_envs_menu_present": true,
   "autoclose": false,
   "autocomplete": true,
   "bibliofile": "biblio.bib",
   "cite_by": "apalike",
   "current_citInitial": 1,
   "eqLabelWithNumbers": true,
   "eqNumInitial": 1,
   "hotkeys": {
    "equation": "Ctrl-E",
    "itemize": "Ctrl-I"
   },
   "labels_anchors": false,
   "latex_user_defs": false,
   "report_style_numbering": false,
   "user_envs_cfg": false
  },
  "vscode": {
   "interpreter": {
    "hash": "5ab4271f17fb678f92d8863922ba38472c07151a138a8513aae8a62841bcc2ec"
   }
  }
 },
 "nbformat": 4,
 "nbformat_minor": 4
}
