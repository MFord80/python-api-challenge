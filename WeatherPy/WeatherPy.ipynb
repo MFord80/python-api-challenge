{
 "cells": [
  {
   "cell_type": "markdown",
   "metadata": {},
   "source": [
    "# WeatherPy\n",
    "----\n",
    "\n",
    "#### Note\n",
    "* Instructions have been included for each segment. You do not have to follow them exactly, but they are included to help you think through the steps."
   ]
  },
  {
   "cell_type": "code",
   "execution_count": null,
   "metadata": {
    "scrolled": true
   },
   "outputs": [],
   "source": [
    "# Dependencies and Setup\n",
    "import matplotlib.pyplot as plt\n",
    "import pandas as pd\n",
    "import numpy as np\n",
    "import requests\n",
    "import time\n",
    "from scipy.stats import linregress\n",
    "import scipy.stats as st\n",
    "from datetime import datetime\n",
    "\n",
    "# Import API key\n",
    "from api_keys import weather_api_key\n",
    "\n",
    "# Incorporated citipy to determine city based on latitude and longitude\n",
    "from citipy import citipy\n",
    "\n",
    "# Output File (CSV)\n",
    "output_data_file = \"../output_data/cities.csv\"\n",
    "\n",
    "# Range of latitudes and longitudes\n",
    "lat_range = (-90, 90)\n",
    "lng_range = (-180, 180)"
   ]
  },
  {
   "cell_type": "markdown",
   "metadata": {},
   "source": [
    "## Generate Cities List"
   ]
  },
  {
   "cell_type": "code",
   "execution_count": null,
   "metadata": {},
   "outputs": [],
   "source": [
    "# List for holding lat_lngs and cities\n",
    "lat_lngs = []\n",
    "cities = []\n",
    "\n",
    "# Create a set of random lat and lng combinations\n",
    "np.random.seed(27)\n",
    "lats = np.random.uniform(lat_range[0], lat_range[1], size=1500)\n",
    "lngs = np.random.uniform(lng_range[0], lng_range[1], size=1500)\n",
    "lat_lngs = zip(lats, lngs)\n",
    "\n",
    "# Identify nearest city for each lat, lng combination\n",
    "for lat_lng in lat_lngs:\n",
    "    city = citipy.nearest_city(lat_lng[0], lat_lng[1]).city_name\n",
    "    \n",
    "    # If the city is unique, then add it to a our cities list\n",
    "    if city not in cities:\n",
    "        cities.append(city)\n"
   ]
  },
  {
   "cell_type": "code",
   "execution_count": null,
   "metadata": {},
   "outputs": [],
   "source": [
    "# Save config information\n",
    "base_url = \"http://api.openweathermap.org/data/2.5/weather?\"\n",
    "\n",
    "# Build partial query URL\n",
    "query_url = base_url + \"appid=\" + weather_api_key + \"&units=metric&q=\"\n",
    "\n",
    "response = requests.get(query_url + cities[1]).json()\n",
    "response"
   ]
  },
  {
   "cell_type": "code",
   "execution_count": null,
   "metadata": {},
   "outputs": [],
   "source": [
    "dt = 1660025415\n"
   ]
  },
  {
   "cell_type": "markdown",
   "metadata": {},
   "source": [
    "### Perform API Calls\n",
    "* Perform a weather check on each city using a series of successive API calls.\n",
    "* Include a print log of each city as it's being processed (with the city number and city name).\n"
   ]
  },
  {
   "cell_type": "code",
   "execution_count": null,
   "metadata": {},
   "outputs": [],
   "source": [
    "# Save config information\n",
    "base_url = \"http://api.openweathermap.org/data/2.5/weather?\"\n",
    "\n",
    "# Build partial query URL\n",
    "query_url = base_url + \"appid=\" + weather_api_key + \"&units=metric&q=\"\n",
    "\n",
    "# Set up lists to hold reponse info\n",
    "number = 0\n",
    "name = []\n",
    "lat = []\n",
    "long = []\n",
    "temp = []\n",
    "humid = []\n",
    "cloud = []\n",
    "windspd = []\n",
    "country = []\n",
    "date_time = []\n",
    "\n",
    "# Loop through the list of cities and perform a request for data on each\n",
    "for city in cities:\n",
    "    response = requests.get(query_url + city).json()\n",
    "    try:\n",
    "        name.append(response['name'])\n",
    "        lat.append(response['coord']['lat'])\n",
    "        long.append(response['coord']['lon'])\n",
    "        temp.append(response['main']['temp_max'])\n",
    "        humid.append(response['main']['humidity'])\n",
    "        cloud.append(response['clouds']['all'])\n",
    "        windspd.append(response['wind']['speed'])\n",
    "        country.append(response['sys']['country'])\n",
    "        timestamp = response['dt']\n",
    "        date_time.append(datetime.utcfromtimestamp(timestamp).strftime('%Y-%m-%d %H:%M:%S'))\n",
    "        number += 1\n",
    "        print(f\"{number}: {city}\\n\")\n",
    "    except:\n",
    "        print(f\"There was an error in retrieving the data for {city}\\n\")\n",
    "        continue\n"
   ]
  },
  {
   "cell_type": "code",
   "execution_count": null,
   "metadata": {},
   "outputs": [],
   "source": [
    "# Print the city count to confirm sufficient count\n",
    "print(f\"There are {len(name)} cities in the dataset.\")"
   ]
  },
  {
   "cell_type": "markdown",
   "metadata": {},
   "source": [
    "### Convert Raw Data to DataFrame\n",
    "* Export the city data into a .csv.\n",
    "* Display the DataFrame"
   ]
  },
  {
   "cell_type": "code",
   "execution_count": null,
   "metadata": {},
   "outputs": [],
   "source": [
    "# Create a data frame from lists of response info\n",
    "cities_df = pd.DataFrame({\"City\": name,\n",
    "                            \"Latitude\": lat,\n",
    "                            \"Longitude\": long,\n",
    "                            \"Temperature (C)\": temp,\n",
    "                            \"Humidity (%)\": humid,\n",
    "                            \"Cloudiness (%)\": cloud,\n",
    "                            \"Wind Speed (m/s)\": windspd,\n",
    "                            \"Country\": country}).rename_axis(\"ID\")\n",
    "\n",
    "cities_df.to_csv(output_data_file, index=False, header=True)\n",
    "\n",
    "cities_df\n"
   ]
  },
  {
   "cell_type": "markdown",
   "metadata": {},
   "source": [
    "## Inspect the data and remove the cities where the humidity > 100%.\n",
    "----\n",
    "Skip this step if there are no cities that have humidity > 100%. "
   ]
  },
  {
   "cell_type": "code",
   "execution_count": null,
   "metadata": {},
   "outputs": [],
   "source": [
    "#  Get the indices of cities that have humidity over 100%.\n",
    "print(f\"There are {len(cities_df.loc[cities_df['Humidity (%)'] > 100, :])} cities in the dataset with a humidity greater than 100%.\")\n"
   ]
  },
  {
   "cell_type": "markdown",
   "metadata": {},
   "source": [
    "## Plotting the Data\n",
    "* Use proper labelling of the plots using plot titles (including date of analysis) and axes labels.\n",
    "* Save the plotted figures as .pngs."
   ]
  },
  {
   "cell_type": "markdown",
   "metadata": {},
   "source": [
    "## Latitude vs. Temperature Plot"
   ]
  },
  {
   "cell_type": "code",
   "execution_count": null,
   "metadata": {
    "scrolled": true
   },
   "outputs": [],
   "source": [
    "plt.scatter(cities_df[\"Latitude\"], cities_df[\"Temperature (C)\"], color = \"SteelBlue\", edgecolors= \"black\")\n",
    "\n",
    "plt.title(\"City Latitude vs Max Temperature\")\n",
    "plt.grid()\n",
    "plt.xlabel(\"Latitude\")\n",
    "plt.ylabel(\"Max Temperature (C)\")\n",
    "plt.xlim(-60,80)\n",
    "plt.ylim(0,40)\n",
    "\n",
    "plt.savefig(\"../output_data/fig1.png\")\n",
    "\n",
    "plt.show()\n"
   ]
  },
  {
   "cell_type": "markdown",
   "metadata": {},
   "source": [
    "This graph represents the relationship between a city's distance from the equator (ie latitude) and its maximum temperature for a given day."
   ]
  },
  {
   "cell_type": "markdown",
   "metadata": {},
   "source": [
    "## Latitude vs. Humidity Plot"
   ]
  },
  {
   "cell_type": "code",
   "execution_count": null,
   "metadata": {},
   "outputs": [],
   "source": [
    "plt.scatter(cities_df[\"Latitude\"], cities_df[\"Humidity (%)\"], color = \"SteelBlue\", edgecolors= \"black\")\n",
    "\n",
    "plt.title(\"City Latitude vs Humidity\")\n",
    "plt.grid()\n",
    "plt.xlabel(\"Latitude\")\n",
    "plt.ylabel(\"Humidity (%)\")\n",
    "plt.xlim(-60,80)\n",
    "plt.ylim(0,100)\n",
    "\n",
    "plt.savefig(\"../output_data/fig2.png\")\n",
    "\n",
    "plt.show()"
   ]
  },
  {
   "cell_type": "markdown",
   "metadata": {},
   "source": [
    "This graph represents the relationship between a city's distance from the equator (ie latitude) and its humidity for a given day."
   ]
  },
  {
   "cell_type": "markdown",
   "metadata": {},
   "source": [
    "## Latitude vs. Cloudiness Plot"
   ]
  },
  {
   "cell_type": "code",
   "execution_count": null,
   "metadata": {},
   "outputs": [],
   "source": [
    "plt.scatter(cities_df[\"Latitude\"], cities_df[\"Cloudiness (%)\"], color = \"SteelBlue\", edgecolors= \"black\")\n",
    "\n",
    "plt.title(\"City Latitude vs Cloudiness\")\n",
    "plt.grid()\n",
    "plt.xlabel(\"Latitude\")\n",
    "plt.ylabel(\"Cloudiness (%)\")\n",
    "plt.xlim(-60,80)\n",
    "plt.ylim(0,100)\n",
    "\n",
    "plt.savefig(\"../output_data/fig3.png\")\n",
    "\n",
    "plt.show()"
   ]
  },
  {
   "cell_type": "markdown",
   "metadata": {},
   "source": [
    "This graph represents the relationship between a city's distance from the equator (ie latitude) and its cloudiness for a given day."
   ]
  },
  {
   "cell_type": "markdown",
   "metadata": {},
   "source": [
    "## Latitude vs. Wind Speed Plot"
   ]
  },
  {
   "cell_type": "code",
   "execution_count": null,
   "metadata": {},
   "outputs": [],
   "source": [
    "plt.scatter(cities_df[\"Latitude\"], cities_df[\"Wind Speed (m/s)\"], color = \"SteelBlue\", edgecolors= \"black\")\n",
    "\n",
    "plt.title(\"City Latitude vs Wind Speed\")\n",
    "plt.grid()\n",
    "plt.xlabel(\"Latitude\")\n",
    "plt.ylabel(\"Wind Speed (m/s)\")\n",
    "plt.xlim(-60,80)\n",
    "plt.ylim(0,17.5)\n",
    "\n",
    "plt.savefig(\"../output_data/fig4.png\")\n",
    "\n",
    "plt.show()\n"
   ]
  },
  {
   "cell_type": "markdown",
   "metadata": {},
   "source": [
    "This graph represents the relationship between a city's distance from the equator (ie latitude) and its wind speed for a given day."
   ]
  },
  {
   "cell_type": "markdown",
   "metadata": {},
   "source": [
    "## Linear Regression"
   ]
  },
  {
   "cell_type": "code",
   "execution_count": null,
   "metadata": {},
   "outputs": [],
   "source": [
    "# Separate the dataset into dataframes for North and South Hemisphere\n",
    "nth_hem_df = cities_df.loc[cities_df['Latitude'] > 0, :]\n",
    "sth_hem_df = cities_df.loc[cities_df['Latitude'] < 0, :]\n"
   ]
  },
  {
   "cell_type": "code",
   "execution_count": null,
   "metadata": {},
   "outputs": [],
   "source": [
    "# Create a function to calculate linear regression for each graph\n",
    "\n",
    "def linreg(x,y,hem):\n",
    "    (slope, intercept, rvalue, pvalue, stderr) = linregress(x, y)\n",
    "    regress_values = x * slope + intercept\n",
    "    line_eq = \"y = \" + str(round(slope,2)) + \"x + \" + str(round(intercept,2))\n",
    "    plt.scatter(x,y, color = \"SteelBlue\", edgecolors= \"black\")\n",
    "    plt.plot(x,regress_values, color = \"red\", alpha=0.6)\n",
    "    #plt.annotate(line_eq,pos,fontsize=15,color=\"red\", alpha=0.8) \n",
    "    plt.title(f\"{x.name} vs {y.name} {hem}ern Hemisphere\")\n",
    "    plt.xlabel(x.name)\n",
    "    plt.ylabel(y.name)\n",
    "    plt.show()\n",
    "    print(f\"The linear regression equation for these factors is:\\n{line_eq}\\n\")\n",
    "    correlation = st.pearsonr(x,y)\n",
    "    if correlation[0] > 0:\n",
    "        correlation_direction = \"positive\"\n",
    "    else:\n",
    "        correlation_direction = \"negative\"\n",
    "    if abs(correlation[0]) < 0.3:\n",
    "        correlation_type = \"no correlation\"\n",
    "    elif abs(correlation[0]) < 0.5:\n",
    "        correlation_type = f\"a weak {correlation_direction} correlation\"\n",
    "    elif abs(correlation[0]) < 0.7:\n",
    "        correlation_type = f\"a moderate {correlation_direction} correlation\"\n",
    "    else:\n",
    "        correlation_type = f\"a strong {correlation_direction} correlation\"\n",
    "    print(f\"The correlation coefficient for these factors is {round(correlation[0],2)}\")\n",
    "    print(f\"This indicates {correlation_type} between these factors.\")"
   ]
  },
  {
   "cell_type": "markdown",
   "metadata": {},
   "source": [
    "###  Max Temp vs. Latitude Linear Regression"
   ]
  },
  {
   "cell_type": "markdown",
   "metadata": {},
   "source": [
    "####  Northern Hemisphere - Max Temp vs. Latitude Linear Regression"
   ]
  },
  {
   "cell_type": "code",
   "execution_count": null,
   "metadata": {},
   "outputs": [],
   "source": [
    "linreg(nth_hem_df[\"Latitude\"],nth_hem_df[\"Temperature (C)\"], \"North\")"
   ]
  },
  {
   "cell_type": "markdown",
   "metadata": {},
   "source": [
    "####  Southern Hemisphere - Max Temp vs. Latitude Linear Regression"
   ]
  },
  {
   "cell_type": "code",
   "execution_count": null,
   "metadata": {},
   "outputs": [],
   "source": [
    "linreg(sth_hem_df[\"Latitude\"],sth_hem_df[\"Temperature (C)\"],\"South\")"
   ]
  },
  {
   "cell_type": "markdown",
   "metadata": {},
   "source": [
    "##### Analysis  \n",
    "These results suggest a relationship between latitude and temperature.  \n",
    "This confirms what would be expected as it is known that areas near the equator receive more heat from the sun.  \n",
    "A moderate correlation has been returned for the North hemisphere and a strong correlation for the South hemisphere.  \n",
    "From these results could use the linear regression equation to make a reasonable estimate of the maximum daily temperature for a city, when given it's latitude.  \n",
    "Note that the linear regression equations for each hemisphere are significantly different. This could be due to sampling error. It would warrant further investigation.  \n",
    "Ideally both equations should have the same (or near equal) intercept. This would make sense logically as for both equations the intercept represents the same real world value, ie the temperature at the equator."
   ]
  },
  {
   "cell_type": "markdown",
   "metadata": {},
   "source": [
    "### Humidity (%) vs. Latitude Linear Regression"
   ]
  },
  {
   "cell_type": "markdown",
   "metadata": {},
   "source": [
    "####  Northern Hemisphere - Humidity (%) vs. Latitude Linear Regression"
   ]
  },
  {
   "cell_type": "code",
   "execution_count": null,
   "metadata": {},
   "outputs": [],
   "source": [
    "linreg(nth_hem_df[\"Latitude\"],nth_hem_df[\"Humidity (%)\"], \"North\")"
   ]
  },
  {
   "cell_type": "markdown",
   "metadata": {},
   "source": [
    "####  Southern Hemisphere - Humidity (%) vs. Latitude Linear Regression"
   ]
  },
  {
   "cell_type": "code",
   "execution_count": null,
   "metadata": {},
   "outputs": [],
   "source": [
    "linreg(sth_hem_df[\"Latitude\"],sth_hem_df[\"Humidity (%)\"],\"South\")"
   ]
  },
  {
   "cell_type": "markdown",
   "metadata": {},
   "source": [
    "##### Analysis  \n",
    "These results suggest there is no relationship between latitude and humidity.  \n",
    "This result is interesting as it challenges preconceived notions of the areas near the equator (colloquially, the \"tropics\") as having humid (or \"tropical\") weather.  \n",
    "It should be noted that in the Northern Hemisphere graph there is a visible cluster of cities with a humidity of 75% or more, within close range of the equator. But this cluster is not significant enough to suggest a correlation."
   ]
  },
  {
   "cell_type": "markdown",
   "metadata": {},
   "source": [
    "### Cloudiness (%) vs. Latitude Linear Regression"
   ]
  },
  {
   "cell_type": "markdown",
   "metadata": {},
   "source": [
    "####  Northern Hemisphere - Cloudiness (%) vs. Latitude Linear Regression"
   ]
  },
  {
   "cell_type": "code",
   "execution_count": null,
   "metadata": {},
   "outputs": [],
   "source": [
    "linreg(nth_hem_df[\"Latitude\"],nth_hem_df[\"Cloudiness (%)\"], \"North\")"
   ]
  },
  {
   "cell_type": "markdown",
   "metadata": {},
   "source": [
    "####  Southern Hemisphere - Cloudiness (%) vs. Latitude Linear Regression"
   ]
  },
  {
   "cell_type": "code",
   "execution_count": null,
   "metadata": {},
   "outputs": [],
   "source": [
    "linreg(sth_hem_df[\"Latitude\"],sth_hem_df[\"Cloudiness (%)\"],\"South\")"
   ]
  },
  {
   "cell_type": "markdown",
   "metadata": {},
   "source": [
    "##### Analysis  \n",
    "These results suggest there is no relationship between latitude and cloudiness.  \n",
    "The main statistical characteristic of the cloudiness data is it's high variability.  \n",
    "The datapoints are heavily represented near the 0 minimum and 100% maximum."
   ]
  },
  {
   "cell_type": "markdown",
   "metadata": {},
   "source": [
    "### Wind Speed (m/s) vs. Latitude Linear Regression"
   ]
  },
  {
   "cell_type": "markdown",
   "metadata": {},
   "source": [
    "####  Northern Hemisphere - Wind Speed (m/s) vs. Latitude Linear Regression"
   ]
  },
  {
   "cell_type": "code",
   "execution_count": null,
   "metadata": {},
   "outputs": [],
   "source": [
    "linreg(nth_hem_df[\"Latitude\"],nth_hem_df[\"Wind Speed (m/s)\"], \"North\")"
   ]
  },
  {
   "cell_type": "markdown",
   "metadata": {},
   "source": [
    "####  Southern Hemisphere - Wind Speed (m/s) vs. Latitude Linear Regression"
   ]
  },
  {
   "cell_type": "code",
   "execution_count": null,
   "metadata": {},
   "outputs": [],
   "source": [
    "linreg(sth_hem_df[\"Latitude\"],sth_hem_df[\"Wind Speed (m/s)\"],\"South\")"
   ]
  },
  {
   "cell_type": "markdown",
   "metadata": {},
   "source": [
    "##### Analysis  \n",
    "These results suggest there is no relationship between latitude and wind speed.  \n",
    "A notable point from the data is that the respective linear regression equations are closer to each other than for any of the other graphs."
   ]
  },
  {
   "cell_type": "code",
   "execution_count": null,
   "metadata": {},
   "outputs": [],
   "source": []
  }
 ],
 "metadata": {
  "anaconda-cloud": {},
  "kernel_info": {
   "name": "python3"
  },
  "kernelspec": {
   "display_name": "Python 3.7.7 ('PythonData')",
   "language": "python",
   "name": "python3"
  },
  "language_info": {
   "codemirror_mode": {
    "name": "ipython",
    "version": 3
   },
   "file_extension": ".py",
   "mimetype": "text/x-python",
   "name": "python",
   "nbconvert_exporter": "python",
   "pygments_lexer": "ipython3",
   "version": "3.7.7"
  },
  "latex_envs": {
   "LaTeX_envs_menu_present": true,
   "autoclose": false,
   "autocomplete": true,
   "bibliofile": "biblio.bib",
   "cite_by": "apalike",
   "current_citInitial": 1,
   "eqLabelWithNumbers": true,
   "eqNumInitial": 1,
   "hotkeys": {
    "equation": "Ctrl-E",
    "itemize": "Ctrl-I"
   },
   "labels_anchors": false,
   "latex_user_defs": false,
   "report_style_numbering": false,
   "user_envs_cfg": false
  },
  "nteract": {
   "version": "0.12.3"
  },
  "vscode": {
   "interpreter": {
    "hash": "5ab4271f17fb678f92d8863922ba38472c07151a138a8513aae8a62841bcc2ec"
   }
  }
 },
 "nbformat": 4,
 "nbformat_minor": 2
}
